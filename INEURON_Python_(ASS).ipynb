{
  "nbformat": 4,
  "nbformat_minor": 0,
  "metadata": {
    "colab": {
      "provenance": [],
      "authorship_tag": "ABX9TyNgfGCzhwbXlhsNe1dYoSlj",
      "include_colab_link": true
    },
    "kernelspec": {
      "name": "python3",
      "display_name": "Python 3"
    },
    "language_info": {
      "name": "python"
    }
  },
  "cells": [
    {
      "cell_type": "markdown",
      "metadata": {
        "id": "view-in-github",
        "colab_type": "text"
      },
      "source": [
        "<a href=\"https://colab.research.google.com/github/SDRIYAZ/Big-Data/blob/main/INEURON_Python_(ASS).ipynb\" target=\"_parent\"><img src=\"https://colab.research.google.com/assets/colab-badge.svg\" alt=\"Open In Colab\"/></a>"
      ]
    },
    {
      "cell_type": "code",
      "source": [],
      "metadata": {
        "id": "kKaye6UeSupZ"
      },
      "execution_count": null,
      "outputs": []
    },
    {
      "cell_type": "markdown",
      "source": [
        "#List_remove_append"
      ],
      "metadata": {
        "id": "MEqyTx_O3Soy"
      }
    },
    {
      "cell_type": "code",
      "source": [
        "input_list=['SAS', 'R', 'PYTHON', 'SPSS']"
      ],
      "metadata": {
        "id": "R7t0h17ZVAkP"
      },
      "execution_count": null,
      "outputs": []
    },
    {
      "cell_type": "code",
      "source": [
        "input_list[3]='SPARK'"
      ],
      "metadata": {
        "id": "HW7yAZQtVD9V"
      },
      "execution_count": null,
      "outputs": []
    },
    {
      "cell_type": "code",
      "source": [
        "input_list"
      ],
      "metadata": {
        "colab": {
          "base_uri": "https://localhost:8080/"
        },
        "id": "roKhd3SaVIEM",
        "outputId": "b151bf5d-fa53-4e6f-b7da-5cfee2537996"
      },
      "execution_count": null,
      "outputs": [
        {
          "output_type": "execute_result",
          "data": {
            "text/plain": [
              "['SAS', 'R', 'PYTHON', 'SPARK']"
            ]
          },
          "metadata": {},
          "execution_count": 34
        }
      ]
    },
    {
      "cell_type": "markdown",
      "source": [
        "#String to List Conversion"
      ],
      "metadata": {
        "id": "MgMrOBAZ3Zt7"
      }
    },
    {
      "cell_type": "code",
      "source": [
        "input_str = 'I love Data Science & Python'"
      ],
      "metadata": {
        "id": "Ie-HNzWwVJyY"
      },
      "execution_count": null,
      "outputs": []
    },
    {
      "cell_type": "code",
      "source": [
        "X=input_str.split()"
      ],
      "metadata": {
        "id": "30vLm7TUYNsz"
      },
      "execution_count": 21,
      "outputs": []
    },
    {
      "cell_type": "code",
      "source": [
        "type(X)"
      ],
      "metadata": {
        "id": "0hhpDfm9YPd-",
        "colab": {
          "base_uri": "https://localhost:8080/"
        },
        "outputId": "8a4fa408-3b31-42f5-dc1b-c13698bfb0f7"
      },
      "execution_count": 22,
      "outputs": [
        {
          "output_type": "execute_result",
          "data": {
            "text/plain": [
              "list"
            ]
          },
          "metadata": {},
          "execution_count": 22
        }
      ]
    },
    {
      "cell_type": "code",
      "source": [
        "X"
      ],
      "metadata": {
        "colab": {
          "base_uri": "https://localhost:8080/"
        },
        "id": "OwZP_l_4zc-N",
        "outputId": "1eeb27e7-12cb-4cd1-f496-2b99de2a3fa7"
      },
      "execution_count": 39,
      "outputs": [
        {
          "output_type": "execute_result",
          "data": {
            "text/plain": [
              "['I', 'love', 'Data', 'Science', '&', 'Python']"
            ]
          },
          "metadata": {},
          "execution_count": 39
        }
      ]
    },
    {
      "cell_type": "markdown",
      "source": [
        "#List to String Conversion"
      ],
      "metadata": {
        "id": "xcxLdOHN3QoS"
      }
    },
    {
      "cell_type": "code",
      "source": [
        "strings_list = ['Pythons syntax is easy to learn', 'Pythons syntax is very clear']\n",
        "joined_string = ' & '.join(strings_list)\n",
        "print(joined_string)\n"
      ],
      "metadata": {
        "colab": {
          "base_uri": "https://localhost:8080/"
        },
        "id": "ofi-ITt2zc4Q",
        "outputId": "0d911cff-af55-4f9f-b69f-3b491572d930"
      },
      "execution_count": 38,
      "outputs": [
        {
          "output_type": "stream",
          "name": "stdout",
          "text": [
            "Pythons syntax is easy to learn & Pythons syntax is very clear\n"
          ]
        }
      ]
    },
    {
      "cell_type": "code",
      "source": [],
      "metadata": {
        "id": "edcY6K1rZEt7"
      },
      "execution_count": null,
      "outputs": []
    },
    {
      "cell_type": "markdown",
      "source": [
        "#Nested List"
      ],
      "metadata": {
        "id": "j5z4T6Ri3j0z"
      }
    },
    {
      "cell_type": "code",
      "source": [
        "input_list = [['SAS','R'],['Tableau','SQL'],['Python','Java']]"
      ],
      "metadata": {
        "id": "MSC9-QbVZEqk"
      },
      "execution_count": null,
      "outputs": []
    },
    {
      "cell_type": "code",
      "source": [
        "input_list[2][0]"
      ],
      "metadata": {
        "colab": {
          "base_uri": "https://localhost:8080/",
          "height": 36
        },
        "id": "GPRSp_OoZFnT",
        "outputId": "32d24094-aa7b-4a5d-9d5d-9f9495fd3bf5"
      },
      "execution_count": null,
      "outputs": [
        {
          "output_type": "execute_result",
          "data": {
            "text/plain": [
              "'Python'"
            ],
            "application/vnd.google.colaboratory.intrinsic+json": {
              "type": "string"
            }
          },
          "metadata": {},
          "execution_count": 42
        }
      ]
    },
    {
      "cell_type": "markdown",
      "source": [
        "#It’s the time to disco"
      ],
      "metadata": {
        "id": "acJFwL4F3nEj"
      }
    },
    {
      "cell_type": "code",
      "source": [
        "t = (\"disco\", 12, 4.5)"
      ],
      "metadata": {
        "id": "dSDo5jCBZJYG"
      },
      "execution_count": null,
      "outputs": []
    },
    {
      "cell_type": "code",
      "source": [
        "t[0][2]"
      ],
      "metadata": {
        "colab": {
          "base_uri": "https://localhost:8080/",
          "height": 36
        },
        "id": "ECpr0gZOZSPW",
        "outputId": "35f814ad-29f2-49ef-ab2b-6f6fd21c2a5c"
      },
      "execution_count": null,
      "outputs": [
        {
          "output_type": "execute_result",
          "data": {
            "text/plain": [
              "'s'"
            ],
            "application/vnd.google.colaboratory.intrinsic+json": {
              "type": "string"
            }
          },
          "metadata": {},
          "execution_count": 44
        }
      ]
    },
    {
      "cell_type": "markdown",
      "source": [
        "#String Palindrome"
      ],
      "metadata": {
        "id": "D9pemaYCasoV"
      }
    },
    {
      "cell_type": "code",
      "source": [
        "s=input(\"Enter any Strng\")\n",
        "rs=s[ : : -1]\n",
        "if rs==s:\n",
        "  print(\"1\")\n",
        "else:\n",
        "  print(\"0\")"
      ],
      "metadata": {
        "colab": {
          "base_uri": "https://localhost:8080/"
        },
        "id": "nKRKY6eoZVTu",
        "outputId": "1445a88d-d3fc-42c4-ac35-cd0054ea0e39"
      },
      "execution_count": 30,
      "outputs": [
        {
          "output_type": "stream",
          "name": "stdout",
          "text": [
            "Enter any Strngdada\n",
            "0\n"
          ]
        }
      ]
    },
    {
      "cell_type": "markdown",
      "source": [
        "#Reverse Words"
      ],
      "metadata": {
        "id": "IH-xta4o25Vg"
      }
    },
    {
      "cell_type": "code",
      "source": [
        "def reverse_sentence(sentence):\n",
        "    # Split the sentence into words\n",
        "    words = sentence.split()\n",
        "    \n",
        "    # Reverse the order of the words\n",
        "    reversed_words = words[::-1]\n",
        "    \n",
        "    # Join the reversed words into a new sentence\n",
        "    reversed_sentence = \" \".join(reversed_words)\n",
        "    \n",
        "    # Return the reversed sentence\n",
        "    return reversed_sentence\n"
      ],
      "metadata": {
        "id": "tIzlDHK4bGQG"
      },
      "execution_count": 34,
      "outputs": []
    },
    {
      "cell_type": "code",
      "source": [
        "sentence =\"Riyaz is good\"\n",
        "reversed_sentence = reverse_sentence(sentence)\n",
        "print(reversed_sentence)"
      ],
      "metadata": {
        "colab": {
          "base_uri": "https://localhost:8080/"
        },
        "id": "ZIL3sqZi2Zjw",
        "outputId": "90eeab99-d682-44d3-c33b-0599dcc67cee"
      },
      "execution_count": 37,
      "outputs": [
        {
          "output_type": "stream",
          "name": "stdout",
          "text": [
            "good is Riyaz\n"
          ]
        }
      ]
    },
    {
      "cell_type": "markdown",
      "source": [
        "# String Formatting\n"
      ],
      "metadata": {
        "id": "JuJ4fQbr1Tir"
      }
    },
    {
      "cell_type": "code",
      "source": [
        "ip1=input(\"Enter the string\")\n",
        "q=ip1.lower()\n",
        "v=q.split()\n",
        "b=\"_\".join(v)\n",
        "b"
      ],
      "metadata": {
        "colab": {
          "base_uri": "https://localhost:8080/",
          "height": 54
        },
        "id": "qxIns8F3dbBc",
        "outputId": "ebe2ce39-6a2f-4915-ed61-057578fc042b"
      },
      "execution_count": 26,
      "outputs": [
        {
          "name": "stdout",
          "output_type": "stream",
          "text": [
            "Enter the stringcaloRie ConsuMed\n"
          ]
        },
        {
          "output_type": "execute_result",
          "data": {
            "text/plain": [
              "'calorie_consumed'"
            ],
            "application/vnd.google.colaboratory.intrinsic+json": {
              "type": "string"
            }
          },
          "metadata": {},
          "execution_count": 26
        }
      ]
    },
    {
      "cell_type": "code",
      "source": [
        "q=ip1.lower()\n",
        "v=q.split()\n",
        "b=\"_\".join(v)\n",
        "b\n"
      ],
      "metadata": {
        "colab": {
          "base_uri": "https://localhost:8080/",
          "height": 36
        },
        "id": "vHRhc4vWecHu",
        "outputId": "a429a3fe-474c-480a-f8e0-30057106a0fa"
      },
      "execution_count": 27,
      "outputs": [
        {
          "output_type": "execute_result",
          "data": {
            "text/plain": [
              "'calorie_consumed'"
            ],
            "application/vnd.google.colaboratory.intrinsic+json": {
              "type": "string"
            }
          },
          "metadata": {},
          "execution_count": 27
        }
      ]
    },
    {
      "cell_type": "code",
      "source": [
        "ip2=input(\"Enter the String\")\n",
        "x=ip2.split()\n",
        "x\n",
        "c=\"_\".join(x)\n",
        "c"
      ],
      "metadata": {
        "colab": {
          "base_uri": "https://localhost:8080/",
          "height": 54
        },
        "id": "qVmYZyIzg5UC",
        "outputId": "d3a462bf-fd10-466e-de23-1fe67914b47f"
      },
      "execution_count": 28,
      "outputs": [
        {
          "name": "stdout",
          "output_type": "stream",
          "text": [
            "Enter the Stringdata science\n"
          ]
        },
        {
          "output_type": "execute_result",
          "data": {
            "text/plain": [
              "'data_science'"
            ],
            "application/vnd.google.colaboratory.intrinsic+json": {
              "type": "string"
            }
          },
          "metadata": {},
          "execution_count": 28
        }
      ]
    },
    {
      "cell_type": "code",
      "source": [
        "ip3=input(\"Enter the String\")\n",
        "ip3"
      ],
      "metadata": {
        "colab": {
          "base_uri": "https://localhost:8080/",
          "height": 54
        },
        "id": "b1LUqvikoMf8",
        "outputId": "72de9c75-7b6d-4e94-bbf9-3f1d3e93eba0"
      },
      "execution_count": 29,
      "outputs": [
        {
          "name": "stdout",
          "output_type": "stream",
          "text": [
            "Enter the Stringdatascience\n"
          ]
        },
        {
          "output_type": "execute_result",
          "data": {
            "text/plain": [
              "'datascience'"
            ],
            "application/vnd.google.colaboratory.intrinsic+json": {
              "type": "string"
            }
          },
          "metadata": {},
          "execution_count": 29
        }
      ]
    },
    {
      "cell_type": "markdown",
      "source": [
        "# Multiple Choice Questions (Answers)"
      ],
      "metadata": {
        "id": "Djq1RG_-pf0W"
      }
    },
    {
      "cell_type": "markdown",
      "source": [
        "1)"
      ],
      "metadata": {
        "id": "XI4gaC-j0Lzl"
      }
    },
    {
      "cell_type": "code",
      "source": [
        "S = 'I LOVE PYTHON'"
      ],
      "metadata": {
        "id": "PfZsIpBopXuH"
      },
      "execution_count": null,
      "outputs": []
    },
    {
      "cell_type": "code",
      "source": [
        "S[-11:-7]"
      ],
      "metadata": {
        "colab": {
          "base_uri": "https://localhost:8080/",
          "height": 36
        },
        "id": "FXXd5mUhpwmv",
        "outputId": "b82f595d-353f-49fd-8a4a-badcdcdb8580"
      },
      "execution_count": null,
      "outputs": [
        {
          "output_type": "execute_result",
          "data": {
            "text/plain": [
              "'LOVE'"
            ],
            "application/vnd.google.colaboratory.intrinsic+json": {
              "type": "string"
            }
          },
          "metadata": {},
          "execution_count": 137
        }
      ]
    },
    {
      "cell_type": "code",
      "source": [
        "S[2:6]"
      ],
      "metadata": {
        "colab": {
          "base_uri": "https://localhost:8080/",
          "height": 36
        },
        "id": "wamn1EjUp6XH",
        "outputId": "aef5afb7-6736-4c48-eec8-968d89285020"
      },
      "execution_count": null,
      "outputs": [
        {
          "output_type": "execute_result",
          "data": {
            "text/plain": [
              "'LOVE'"
            ],
            "application/vnd.google.colaboratory.intrinsic+json": {
              "type": "string"
            }
          },
          "metadata": {},
          "execution_count": 138
        }
      ]
    },
    {
      "cell_type": "markdown",
      "source": [
        "2)"
      ],
      "metadata": {
        "id": "gfzMyYBc0V59"
      }
    },
    {
      "cell_type": "code",
      "source": [
        "3 * 3 ** 3"
      ],
      "metadata": {
        "colab": {
          "base_uri": "https://localhost:8080/"
        },
        "id": "jdOa7_TQqEyO",
        "outputId": "9b878760-3e9e-4ef9-e2b2-5fbe7c4cdf28"
      },
      "execution_count": null,
      "outputs": [
        {
          "output_type": "execute_result",
          "data": {
            "text/plain": [
              "81"
            ]
          },
          "metadata": {},
          "execution_count": 139
        }
      ]
    },
    {
      "cell_type": "markdown",
      "source": [
        "3)"
      ],
      "metadata": {
        "id": "SxwzUv170az8"
      }
    },
    {
      "cell_type": "code",
      "source": [
        "((500//7) % 5) ** 3"
      ],
      "metadata": {
        "colab": {
          "base_uri": "https://localhost:8080/"
        },
        "id": "p2RBo5nCqNiy",
        "outputId": "6c5babf2-6950-457f-b142-670c71b16721"
      },
      "execution_count": null,
      "outputs": [
        {
          "output_type": "execute_result",
          "data": {
            "text/plain": [
              "1"
            ]
          },
          "metadata": {},
          "execution_count": 143
        }
      ]
    },
    {
      "cell_type": "markdown",
      "source": [
        "4)  Answer is Error"
      ],
      "metadata": {
        "id": "Mb5s0Axo0eBF"
      }
    },
    {
      "cell_type": "code",
      "source": [
        "T = (3, 5, 7, 11)\n",
        "T.append(9)"
      ],
      "metadata": {
        "colab": {
          "base_uri": "https://localhost:8080/",
          "height": 189
        },
        "id": "hVnAZkV6qexT",
        "outputId": "a6179274-fa57-49fc-8a62-f90c141f816e"
      },
      "execution_count": null,
      "outputs": [
        {
          "output_type": "error",
          "ename": "AttributeError",
          "evalue": "ignored",
          "traceback": [
            "\u001b[0;31m---------------------------------------------------------------------------\u001b[0m",
            "\u001b[0;31mAttributeError\u001b[0m                            Traceback (most recent call last)",
            "\u001b[0;32m<ipython-input-144-9d8c21e3c639>\u001b[0m in \u001b[0;36m<module>\u001b[0;34m\u001b[0m\n\u001b[1;32m      1\u001b[0m \u001b[0mT\u001b[0m \u001b[0;34m=\u001b[0m \u001b[0;34m(\u001b[0m\u001b[0;36m3\u001b[0m\u001b[0;34m,\u001b[0m \u001b[0;36m5\u001b[0m\u001b[0;34m,\u001b[0m \u001b[0;36m7\u001b[0m\u001b[0;34m,\u001b[0m \u001b[0;36m11\u001b[0m\u001b[0;34m)\u001b[0m\u001b[0;34m\u001b[0m\u001b[0;34m\u001b[0m\u001b[0m\n\u001b[0;32m----> 2\u001b[0;31m \u001b[0mT\u001b[0m\u001b[0;34m.\u001b[0m\u001b[0mappend\u001b[0m\u001b[0;34m(\u001b[0m\u001b[0;36m9\u001b[0m\u001b[0;34m)\u001b[0m\u001b[0;34m\u001b[0m\u001b[0;34m\u001b[0m\u001b[0m\n\u001b[0m",
            "\u001b[0;31mAttributeError\u001b[0m: 'tuple' object has no attribute 'append'"
          ]
        }
      ]
    },
    {
      "cell_type": "markdown",
      "source": [
        "6)"
      ],
      "metadata": {
        "id": "QD2uTMfR0kb-"
      }
    },
    {
      "cell_type": "code",
      "source": [
        "l= [32, 34, 12, 27, 33]\n",
        "l.append((14,19))\n",
        "print(len(l))"
      ],
      "metadata": {
        "colab": {
          "base_uri": "https://localhost:8080/"
        },
        "id": "kProbaHdqorS",
        "outputId": "f7d4939c-fd85-4cf4-d272-640241175a33"
      },
      "execution_count": null,
      "outputs": [
        {
          "output_type": "stream",
          "name": "stdout",
          "text": [
            "6\n"
          ]
        }
      ]
    },
    {
      "cell_type": "markdown",
      "source": [
        "7)"
      ],
      "metadata": {
        "id": "nieMpJY_0ya_"
      }
    },
    {
      "cell_type": "markdown",
      "source": [
        "a. Sets do not contain duplicate elements\n",
        "b. Sets are represented using curly braces {}\n",
        "c. Sets are immutable\n",
        "d. All of the above\n",
        "\n",
        "\n",
        "Answer: d"
      ],
      "metadata": {
        "id": "W5aWTt1JrNhP"
      }
    },
    {
      "cell_type": "code",
      "source": [
        "print(list (range(10,1,-1)))"
      ],
      "metadata": {
        "colab": {
          "base_uri": "https://localhost:8080/"
        },
        "id": "mAkl66gHqySS",
        "outputId": "4976b11a-2326-4231-caa9-24b54b1c849d"
      },
      "execution_count": null,
      "outputs": [
        {
          "output_type": "stream",
          "name": "stdout",
          "text": [
            "[10, 9, 8, 7, 6, 5, 4, 3, 2]\n"
          ]
        }
      ]
    },
    {
      "cell_type": "markdown",
      "source": [
        "8)"
      ],
      "metadata": {
        "id": "eB6wePFM0_Om"
      }
    },
    {
      "cell_type": "code",
      "source": [
        "D = {1:['Raj', 22], 2:['Simran', 21], 3:['Rahul', 40]}\n",
        "                       \n",
        "for val in D:\n",
        "  print(val)"
      ],
      "metadata": {
        "colab": {
          "base_uri": "https://localhost:8080/"
        },
        "id": "U7ccHxIdErGT",
        "outputId": "44025c39-7ac2-4d3a-f145-faeccd033581"
      },
      "execution_count": null,
      "outputs": [
        {
          "output_type": "stream",
          "name": "stdout",
          "text": [
            "1\n",
            "2\n",
            "3\n"
          ]
        }
      ]
    },
    {
      "cell_type": "code",
      "source": [],
      "metadata": {
        "id": "xAO-RtEuEuYX"
      },
      "execution_count": null,
      "outputs": []
    }
  ]
}